{
 "cells": [
  {
   "cell_type": "markdown",
   "metadata": {},
   "source": [
    "# Chapter 2: Importing and Reporting Data\n",
    "\n",
    "* Use the DATA step to create data tables manually.\n",
    "* Import a delimited raw data file using a DATA step without column names.\n",
    "* Import a delimited raw data file using PROC IMPORT with column names.\n",
    "* Rename variables using the RENAME statement.\n",
    "* Identify data table attributes with PROC CONTENTS.\n",
    "* Identify variable levels with PROC SQL.\n",
    "* Create a default PROC PRINT report.\n",
    "* Select variables with a VAR statement.\n",
    "* Select observations with a WHERE statement.\n",
    "* Subset the data with a WHERE statement.\n",
    "* Use the LABEL statement to display descriptive column headings.\n",
    "* Use the FORMAT procedure to create user-defined formats.\n",
    "* Use the FORMAT statement to apply user-defined formats.\n",
    "* Apply SAS formats with the FORMAT statement."
   ]
  },
  {
   "cell_type": "markdown",
   "metadata": {},
   "source": [
    "## Creating Data Sets Manually in the DATA Step\n",
    "\n",
    "In this section we want to go ahead and create a data set by hand. So for example, we want to create a data set with four variables, `first name, last name, age, and height,` which have character and *numeric* values. We're going to use a `DATA` Step to create a new SAS data set.\n",
    "\n",
    "And going forward in this course, I generally have a Duplicate the `R `script step. So what do you do in `R` and how do we do that in `SAS`. And that'll be the coming section.\n",
    "\n",
    "So for example, maybe I'll create four vectors, first name, last name, age, and height, and then I'll go ahead and combine them to create a data frame. So basically, I want to go ahead and create the five by four data frame as a SAS data set.\n",
    "\n",
    "**So recall**, data steps are used to read in data or alter existing data sets. We start with the DATA statement and specify a new data set name, and then we use the input statement to specify the variables to be in the data set, and if the variables are character valued we need to specify a dollar sign after the variable name. And then we specify a data line statement. It is a statement so we use a semicolon. And then we start writing our data in column major. So column 1 is variable a, column 2 is variable b, and so on.\n",
    "\n",
    "And after we enter all the data, we're going to use a semicolon and then we're going to use a RUN statement to finish up our data step.\n",
    "\n",
    "Now by default, SAS only gives you 8 bytes in a single variable.\n",
    "\n",
    "Numeric values are stored in floating point notation storing up to 17 significant digits in 8 bytes. In a character variable each character takes one byte. So by default they can hold a maximum of eight characters. If your data values are longer than 8 characters, for example names, or shorter than 8 characters, for example gender or state code, then you can use a LENGTH statement to specify a length for the variable.\n",
    "\n",
    "So in the `LENGTH` statement I'll say, variable a, then a *dollar sign* <$> since it's a character variable, and then I specify a number.\n",
    "\n",
    "How many characters do you want to be able to hold in that single variable? In general you just need an upper bound. So for example, you don't have to go into the data set and identify the largest variable. Maybe you just want to go up to 100 characters. **But just keep in mind it's going to actually save all that space.** So don't specify a number of bytes that's extremely large because, of course, you don't want to save unnecessary space.\n",
    "\n",
    "Copyright © 2017 SAS Institute Inc., Cary, NC, USA. All rights reserved. Privacy Statement"
   ]
  },
  {
   "cell_type": "code",
   "execution_count": null,
   "metadata": {
    "collapsed": true
   },
   "outputs": [],
   "source": []
  }
 ],
 "metadata": {
  "kernelspec": {
   "display_name": "SAS",
   "language": "sas",
   "name": "sas"
  },
  "language_info": {
   "codemirror_mode": "sas",
   "file_extension": ".sas",
   "mimetype": "text/x-sas",
   "name": "sas"
  }
 },
 "nbformat": 4,
 "nbformat_minor": 0
}
