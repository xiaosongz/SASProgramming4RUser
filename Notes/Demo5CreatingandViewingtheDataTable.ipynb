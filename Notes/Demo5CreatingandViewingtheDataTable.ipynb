{
 "cells": [
  {
   "cell_type": "markdown",
   "metadata": {},
   "source": [
    "# Demo: Creating and Viewing the Data Table\n",
    "\n",
    "Open up the SP4R02d01 file to read in a few new data sets manually.\n",
    "\n",
    "So here I'm creating a data set called EXAMPLE_DATA. I'm saving it in the SP4R library. So it will be saved permanently.\n",
    "\n",
    "In the input statement I have four variables. First name, which is character valued. So I have a dollar sign. Last name is also character valued. So I have another dollar sign. And two numeric valued variables, age and height. Then I'll specify the data lines and go ahead and type in all my data.\n",
    "\n",
    "So here I have my name, Jordan Bakerman, 27 years old, 68 inches tall, and a few of my friends, as well. Remember your semicolon and your RUN statement to finish up your DATA step.\n",
    "\n",
    "Now you'll notice here the last observation has more than eight bytes. Jean-Claude is actually 10 characters. So I need to use a LENGTH statement to change the number of bytes for the variable. So in the LENGTH statement I'll specify first name and last name, and I'll just say, hey, let them be up to **25 characters**."
   ]
  },
  {
   "cell_type": "code",
   "execution_count": 1,
   "metadata": {
    "collapsed": false
   },
   "outputs": [
    {
     "data": {
      "text/html": [
       "<!DOCTYPE html PUBLIC \"-//W3C//DTD HTML 4.01//EN\"\n",
       "   \"http://www.w3.org/TR/html4/strict.dtd\">\n",
       "\n",
       "<html>\n",
       "<head>\n",
       "  <title></title>\n",
       "  <meta http-equiv=\"content-type\" content=\"text/html; charset=None\">\n",
       "  <style type=\"text/css\">\n",
       "td.linenos { background-color: #f0f0f0; padding-right: 10px; }\n",
       "span.lineno { background-color: #f0f0f0; padding: 0 5px 0 5px; }\n",
       "pre { line-height: 125%; }\n",
       "body .hll { background-color: #ffffcc }\n",
       "body  { background: #ffffff; }\n",
       "body .c { color: #0000FF } /* Comment */\n",
       "body .k { color: #ff0000; font-weight: bold } /* Keyword */\n",
       "body .n { color: #008000 } /* Name */\n",
       "body .ch { color: #0000FF } /* Comment.Hashbang */\n",
       "body .cm { color: #0000FF } /* Comment.Multiline */\n",
       "body .cp { color: #0000FF } /* Comment.Preproc */\n",
       "body .cpf { color: #0000FF } /* Comment.PreprocFile */\n",
       "body .c1 { color: #0000FF } /* Comment.Single */\n",
       "body .cs { color: #0000FF } /* Comment.Special */\n",
       "body .kc { color: #ff0000; font-weight: bold } /* Keyword.Constant */\n",
       "body .kd { color: #ff0000; font-weight: bold } /* Keyword.Declaration */\n",
       "body .kn { color: #ff0000; font-weight: bold } /* Keyword.Namespace */\n",
       "body .kp { color: #ff0000; font-weight: bold } /* Keyword.Pseudo */\n",
       "body .kr { color: #ff0000; font-weight: bold } /* Keyword.Reserved */\n",
       "body .kt { color: #ff0000; font-weight: bold } /* Keyword.Type */\n",
       "body .s { color: #111111 } /* Literal.String */\n",
       "body .na { color: #008000 } /* Name.Attribute */\n",
       "body .nb { color: #008000 } /* Name.Builtin */\n",
       "body .nc { color: #008000 } /* Name.Class */\n",
       "body .no { color: #008000 } /* Name.Constant */\n",
       "body .nd { color: #008000 } /* Name.Decorator */\n",
       "body .ni { color: #008000 } /* Name.Entity */\n",
       "body .ne { color: #008000 } /* Name.Exception */\n",
       "body .nf { color: #008000 } /* Name.Function */\n",
       "body .nl { color: #008000 } /* Name.Label */\n",
       "body .nn { color: #008000 } /* Name.Namespace */\n",
       "body .nx { color: #008000 } /* Name.Other */\n",
       "body .py { color: #008000 } /* Name.Property */\n",
       "body .nt { color: #008000 } /* Name.Tag */\n",
       "body .nv { color: #008000 } /* Name.Variable */\n",
       "body .sb { color: #111111 } /* Literal.String.Backtick */\n",
       "body .sc { color: #111111 } /* Literal.String.Char */\n",
       "body .sd { color: #111111 } /* Literal.String.Doc */\n",
       "body .s2 { color: #111111 } /* Literal.String.Double */\n",
       "body .se { color: #111111 } /* Literal.String.Escape */\n",
       "body .sh { color: #111111 } /* Literal.String.Heredoc */\n",
       "body .si { color: #111111 } /* Literal.String.Interpol */\n",
       "body .sx { color: #111111 } /* Literal.String.Other */\n",
       "body .sr { color: #111111 } /* Literal.String.Regex */\n",
       "body .s1 { color: #111111 } /* Literal.String.Single */\n",
       "body .ss { color: #111111 } /* Literal.String.Symbol */\n",
       "body .bp { color: #008000 } /* Name.Builtin.Pseudo */\n",
       "body .vc { color: #008000 } /* Name.Variable.Class */\n",
       "body .vg { color: #008000 } /* Name.Variable.Global */\n",
       "body .vi { color: #008000 } /* Name.Variable.Instance */\n",
       "\n",
       "  </style>\n",
       "</head>\n",
       "<body>\n",
       "<h2></h2>\n",
       "\n",
       "<div class=\"highlight\"><pre><span></span><span class=\"s\">11   ods listing close;ods html5 file=stdout options(bitmap_mode=&#39;inline&#39;) device=png; ods graphics on / outputfmt=png;</span><br><span class=\"cm\">NOTE: Writing HTML5 Body file: STDOUT</span><br><span class=\"s\">12   </span><br><span class=\"s\">13   libname sp4r &quot;/folders/myfolders/sp4r&quot;;</span><br><span class=\"cm\">NOTE: Libref SP4R was successfully assigned as follows: </span><br><span class=\"cm\">      Engine:        V9 </span><br><span class=\"cm\">      Physical Name: /folders/myfolders/sp4r</span><br><span class=\"s\">14   </span><br><span class=\"s\">15   data sp4r.example_data;</span><br><span class=\"s\">16      length First_Name $ 25 Last_Name $ 25;</span><br><span class=\"s\">17      input First_Name $ Last_Name $ age height;</span><br><span class=\"s\">18      datalines;</span><br><span class=\"cm\">NOTE: The data set SP4R.EXAMPLE_DATA has 5 observations and 4 variables.</span><br><span class=\"cm\">NOTE: DATA statement used (Total process time):</span><br><span class=\"cm\">      real time           0.00 seconds</span><br><span class=\"cm\">      cpu time            0.00 seconds</span><br><span class=\"cm\">      </span><br><span class=\"s\">24   ;</span><br><span class=\"s\">25   run;</span><br><span class=\"s\">26   ods html5 close;ods listing;</span><br><br><span class=\"s\">27   </span><br></pre></div>\n",
       "</body>\n",
       "</html>\n"
      ],
      "text/plain": [
       "<IPython.core.display.HTML object>"
      ]
     },
     "execution_count": 1,
     "metadata": {},
     "output_type": "execute_result"
    }
   ],
   "source": [
    "libname sp4r \"/folders/myfolders/sp4r\";\n",
    "\n",
    "data sp4r.example_data;\n",
    "   length First_Name $ 25 Last_Name $ 25;\n",
    "   input First_Name $ Last_Name $ age height;\n",
    "   datalines;\n",
    "   Jordan Bakerman 27 68\n",
    "   Bruce Wayne 35 70\n",
    "   Walter White 51 70\n",
    "   Henry Hill 65 66\n",
    "   JeanClaude VanDamme 55 69\n",
    ";\n",
    "run;"
   ]
  },
  {
   "cell_type": "markdown",
   "metadata": {},
   "source": [
    "Part B, we're creating another data set. I'll call it EXAMPLE_DATA2. And the only difference here is you'll notice I've read in more than one observation per line.\n",
    "\n",
    "So here I have Jordan Bakerman, 27 68, and then immediately following it I have the second and third observations.\n",
    "\n",
    "So to read in this data we need to use what's called a trailing `@@` symbol in the `INPUT` statement. That tells SAS to **hold the line and continue reading in data as new observations**. If I didn't use the double trailing `@@` symbol I would **only have two observations ** in this data set, Jordan Bakerman and Henry Hill.\n",
    "\n",
    "So let's read this in just to make sure it's exactly the same from part A. And of course, it is. It's the five by four data table from before."
   ]
  },
  {
   "cell_type": "code",
   "execution_count": null,
   "metadata": {
    "collapsed": true
   },
   "outputs": [],
   "source": [
    "\n",
    "/*Part B*/\n",
    "data sp4r.example_data2;\n",
    "   length First_Name $ 25 Last_Name $ 25;\n",
    "   input First_Name $ Last_Name $ age height @@;\n",
    "   datalines;\n",
    "   Jordan Bakerman 27 68 Bruce Wayne 35 70 Walter White 51 70\n",
    "   Henry Hill 65 66 JeanClaude VanDamme 55 69\n",
    "   ;\n",
    "run;"
   ]
  }
 ],
 "metadata": {
  "kernelspec": {
   "display_name": "SAS",
   "language": "sas",
   "name": "sas"
  },
  "language_info": {
   "codemirror_mode": "sas",
   "file_extension": ".sas",
   "mimetype": "text/x-sas",
   "name": "sas"
  }
 },
 "nbformat": 4,
 "nbformat_minor": 0
}
