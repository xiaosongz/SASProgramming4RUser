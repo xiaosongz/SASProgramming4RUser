{
 "cells": [
  {
   "cell_type": "markdown",
   "metadata": {},
   "source": [
    "# Demo: Calling R from SAS"
   ]
  },
  {
   "cell_type": "code",
   "execution_count": null,
   "metadata": {
    "collapsed": false
   },
   "outputs": [],
   "source": [
    "/***************************************************************************************************/\n",
    "/*Call R from SAS/IML*/\n",
    "proc iml;\n",
    "   call ExportDataSetToR(\"work.birth\",\"birth\");\n",
    "\n",
    "      submit / r;\n",
    "\t     library(randomForest)\n",
    "\t\t rf = randomForest(BWT ~ SMOKE + HT + LWT + PTL, data=birth,ntree=200,importance=TRUE)\n",
    "\t\t summary(rf)\n",
    "\t\t actual = birth$BWT\n",
    "\t\t pred = predict(rf,data=birth)\n",
    "\t\t actual.pred = cbind(actual,pred)\n",
    "\t\t colnames(actual.pred) <- c(\"Actual\",\"Predicted\")\n",
    "      endsubmit;\n",
    "\n",
    "   call ImportDataSetFromR(\"Rdata\",\"actual.pred\");\n",
    "quit;\n"
   ]
  },
  {
   "cell_type": "code",
   "execution_count": null,
   "metadata": {
    "collapsed": true
   },
   "outputs": [],
   "source": []
  }
 ],
 "metadata": {
  "kernelspec": {
   "display_name": "SAS",
   "language": "sas",
   "name": "sas"
  },
  "language_info": {
   "codemirror_mode": "sas",
   "file_extension": ".sas",
   "mimetype": "text/x-sas",
   "name": "sas"
  }
 },
 "nbformat": 4,
 "nbformat_minor": 0
}
